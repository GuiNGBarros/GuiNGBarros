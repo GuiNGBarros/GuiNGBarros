{
 "cells": [
  {
   "cell_type": "markdown",
   "id": "a2675a3e",
   "metadata": {},
   "source": [
    "## Pseudocódigo\n",
    "\n",
    "Descrição do Pseudocódigo\n",
    "\n",
    "1. Inicialização:\n",
    "\n",
    "Defina uma lista de palavras possíveis.\n",
    "\n",
    "Escolha uma palavra aleatoriamente da lista.\n",
    "\n",
    "Inicialize a lista de letras corretas como uma série de underscores (_) do tamanho da palavra.\n",
    "\n",
    "Defina o número máximo de tentativas erradas permitidas (por exemplo, 6).\n",
    "\n",
    "Inicialize a lista de letras erradas.\n",
    "\n",
    "2. Loop Principal:\n",
    "\n",
    "Enquanto o número de tentativas for maior que zero e a palavra ainda contiver underscores:\n",
    "Exiba o estado atual da palavra (com underscores para letras não adivinhadas) e as letras erradas.\n",
    "Solicite ao jogador para inserir uma letra.\n",
    "Verifique se a letra já foi tentada anteriormente. Se sim, informe o jogador.\n",
    "Se a letra estiver na palavra, atualize a lista de letras corretas.\n",
    "Se a letra não estiver na palavra, adicione-a à lista de letras erradas e reduza o número de tentativas restantes.\n",
    "\n",
    "3. Verificação de Resultado:\n",
    "\n",
    "Se não houver mais underscores na lista de letras corretas, o jogador ganhou.\n",
    "Caso contrário, o jogador perdeu e deve ser informada a palavra correta.\n",
    "\n",
    "\n",
    "Este pseudocódigo cobre os aspectos principais do jogo da forca, incluindo a lógica para manipulação das letras, controle das tentativas e a verificação do resultado final."
   ]
  },
  {
   "cell_type": "code",
   "execution_count": 8,
   "id": "b1f599a2",
   "metadata": {},
   "outputs": [],
   "source": [
    "from os import system\n",
    "\n",
    "def limpatela():\n",
    "    system('cls')"
   ]
  },
  {
   "cell_type": "code",
   "execution_count": 11,
   "id": "24942e64",
   "metadata": {},
   "outputs": [],
   "source": [
    "def game():\n",
    "    \n",
    "    \n",
    "    \n",
    "    print('Bem vindo/a ao jogo da forca!\\nEste é um jogo onde o player1 escolhe\\n a palavra e o player2 tenha adivinhar\\nVamos lá!')\n",
    "    \n",
    "    palavra = input('Player1, digite a palavra:')\n",
    "    list1 = list(palavra)\n",
    "    \n",
    "    dica = input('Agora, digite alguma dica:')\n",
    "    \n",
    "    list2 = ['_']*len(list1)\n",
    "    \n",
    "    chances = 6\n",
    "    \n",
    "    letras_erradas = []\n",
    "    \n",
    "    limpatela()\n",
    "    \n",
    "    \n",
    "    \n",
    "    \n",
    "    while chances > 0:\n",
    "        \n",
    "        limpatela()\n",
    "        \n",
    "        print(\" \".join(list2))\n",
    "        print('Dica:',dica)\n",
    "        print(\"\\nChances restantes:\",chances)\n",
    "        print(\"Letras erradas:\",\" \".join(letras_erradas))\n",
    "        \n",
    "        \n",
    "        letra = input('Você tem %d tentativa(s). Escolha uma letra:'%(chances))\n",
    "        \n",
    "        if letra in palavra:\n",
    "            i = 0\n",
    "            for n in palavra:\n",
    "                if n == letra:\n",
    "                    list2[i] = n\n",
    "                i = i + 1\n",
    "        else:\n",
    "            chances = chances - 1\n",
    "            letras_erradas.append(letra)\n",
    "            \n",
    "        if '_' not in list2:\n",
    "            print('Você venceu! A palavra era', palavra)\n",
    "            break\n",
    "    \n",
    "    if '_' in list2:\n",
    "        print('Você perdeu! A palavra era', palavra)\n"
   ]
  },
  {
   "cell_type": "code",
   "execution_count": null,
   "id": "b4bf820e",
   "metadata": {},
   "outputs": [
    {
     "name": "stdout",
     "output_type": "stream",
     "text": [
      "Bem vindo/a ao jogo da forca!\n",
      "Este é um jogo onde o player1 escolhe\n",
      " a palavra e o player2 tenha adivinhar\n",
      "Vamos lá!\n",
      "Player1, digite a palavra:a\n",
      "Agora, digite alguma dica:letra\n",
      "_\n",
      "Dica: letra\n",
      "\n",
      "Chances restantes: 6\n",
      "Letras erradas: \n",
      "Você tem 6 tentativa(s). Escolha uma letra:b\n",
      "_\n",
      "Dica: letra\n",
      "\n",
      "Chances restantes: 5\n",
      "Letras erradas: b\n"
     ]
    }
   ],
   "source": [
    "game()"
   ]
  },
  {
   "cell_type": "code",
   "execution_count": 4,
   "id": "c95597fe",
   "metadata": {},
   "outputs": [
    {
     "data": {
      "text/plain": [
       "0"
      ]
     },
     "execution_count": 4,
     "metadata": {},
     "output_type": "execute_result"
    }
   ],
   "source": [
    "\n"
   ]
  },
  {
   "cell_type": "code",
   "execution_count": 5,
   "id": "e068737f",
   "metadata": {},
   "outputs": [
    {
     "name": "stdout",
     "output_type": "stream",
     "text": [
      "A dica é: banda\n",
      "['m', 'a', 's', 's', 'a', 'c', 'r', 'a', 't', 'i', 'o', 'n']\n"
     ]
    }
   ],
   "source": []
  },
  {
   "cell_type": "code",
   "execution_count": 33,
   "id": "06bb261b",
   "metadata": {},
   "outputs": [
    {
     "name": "stdout",
     "output_type": "stream",
     "text": [
      "Você tem 6 tentativa(s). Escolha uma letra:a\n",
      "['_', 'a', '_', '_', 'a', '_', '_', 'a', '_', '_', '_', '_']\n",
      "['a', 'a', 'a', 'a', 'a', 'a', 'a', 'a', 'a']\n",
      "Você tem 6 tentativa(s). Escolha uma letra:b\n",
      "['_', 'a', '_', '_', 'a', '_', '_', 'a', '_', '_', '_', '_']\n",
      "['a', 'a', 'a', 'a', 'a', 'a', 'a', 'a', 'a', 'b', 'b', 'b', 'b', 'b', 'b', 'b', 'b', 'b', 'b', 'b', 'b']\n"
     ]
    },
    {
     "ename": "KeyboardInterrupt",
     "evalue": "Interrupted by user",
     "output_type": "error",
     "traceback": [
      "\u001b[1;31m---------------------------------------------------------------------------\u001b[0m",
      "\u001b[1;31mKeyboardInterrupt\u001b[0m                         Traceback (most recent call last)",
      "\u001b[1;32m~\\AppData\\Local\\Temp\\ipykernel_8116\\3986594753.py\u001b[0m in \u001b[0;36m<module>\u001b[1;34m\u001b[0m\n\u001b[0;32m      5\u001b[0m \u001b[1;33m\u001b[0m\u001b[0m\n\u001b[0;32m      6\u001b[0m \u001b[1;32mwhile\u001b[0m \u001b[0mvalor\u001b[0m \u001b[1;33m<\u001b[0m \u001b[0mmaxtentativa\u001b[0m\u001b[1;33m:\u001b[0m\u001b[1;33m\u001b[0m\u001b[1;33m\u001b[0m\u001b[0m\n\u001b[1;32m----> 7\u001b[1;33m     \u001b[0mletra\u001b[0m \u001b[1;33m=\u001b[0m \u001b[0minput\u001b[0m\u001b[1;33m(\u001b[0m\u001b[1;34m'Você tem %d tentativa(s). Escolha uma letra:'\u001b[0m\u001b[1;33m%\u001b[0m\u001b[1;33m(\u001b[0m\u001b[0mmaxtentativa\u001b[0m \u001b[1;33m-\u001b[0m \u001b[0mvalor\u001b[0m\u001b[1;33m)\u001b[0m\u001b[1;33m)\u001b[0m\u001b[1;33m\u001b[0m\u001b[1;33m\u001b[0m\u001b[0m\n\u001b[0m\u001b[0;32m      8\u001b[0m     \u001b[1;32mfor\u001b[0m \u001b[0mi\u001b[0m \u001b[1;32min\u001b[0m \u001b[0mrange\u001b[0m\u001b[1;33m(\u001b[0m\u001b[0mlen\u001b[0m\u001b[1;33m(\u001b[0m\u001b[0mlist1\u001b[0m\u001b[1;33m)\u001b[0m\u001b[1;33m)\u001b[0m\u001b[1;33m:\u001b[0m\u001b[1;33m\u001b[0m\u001b[1;33m\u001b[0m\u001b[0m\n\u001b[0;32m      9\u001b[0m         \u001b[1;32mif\u001b[0m \u001b[0mlist1\u001b[0m\u001b[1;33m[\u001b[0m\u001b[0mi\u001b[0m\u001b[1;33m]\u001b[0m \u001b[1;33m==\u001b[0m \u001b[0mletra\u001b[0m\u001b[1;33m:\u001b[0m\u001b[1;33m\u001b[0m\u001b[1;33m\u001b[0m\u001b[0m\n",
      "\u001b[1;32mD:\\GuiBarros\\anaconda3\\lib\\site-packages\\ipykernel\\kernelbase.py\u001b[0m in \u001b[0;36mraw_input\u001b[1;34m(self, prompt)\u001b[0m\n\u001b[0;32m   1175\u001b[0m                 \u001b[1;34m\"raw_input was called, but this frontend does not support input requests.\"\u001b[0m\u001b[1;33m\u001b[0m\u001b[1;33m\u001b[0m\u001b[0m\n\u001b[0;32m   1176\u001b[0m             )\n\u001b[1;32m-> 1177\u001b[1;33m         return self._input_request(\n\u001b[0m\u001b[0;32m   1178\u001b[0m             \u001b[0mstr\u001b[0m\u001b[1;33m(\u001b[0m\u001b[0mprompt\u001b[0m\u001b[1;33m)\u001b[0m\u001b[1;33m,\u001b[0m\u001b[1;33m\u001b[0m\u001b[1;33m\u001b[0m\u001b[0m\n\u001b[0;32m   1179\u001b[0m             \u001b[0mself\u001b[0m\u001b[1;33m.\u001b[0m\u001b[0m_parent_ident\u001b[0m\u001b[1;33m[\u001b[0m\u001b[1;34m\"shell\"\u001b[0m\u001b[1;33m]\u001b[0m\u001b[1;33m,\u001b[0m\u001b[1;33m\u001b[0m\u001b[1;33m\u001b[0m\u001b[0m\n",
      "\u001b[1;32mD:\\GuiBarros\\anaconda3\\lib\\site-packages\\ipykernel\\kernelbase.py\u001b[0m in \u001b[0;36m_input_request\u001b[1;34m(self, prompt, ident, parent, password)\u001b[0m\n\u001b[0;32m   1217\u001b[0m             \u001b[1;32mexcept\u001b[0m \u001b[0mKeyboardInterrupt\u001b[0m\u001b[1;33m:\u001b[0m\u001b[1;33m\u001b[0m\u001b[1;33m\u001b[0m\u001b[0m\n\u001b[0;32m   1218\u001b[0m                 \u001b[1;31m# re-raise KeyboardInterrupt, to truncate traceback\u001b[0m\u001b[1;33m\u001b[0m\u001b[1;33m\u001b[0m\u001b[0m\n\u001b[1;32m-> 1219\u001b[1;33m                 \u001b[1;32mraise\u001b[0m \u001b[0mKeyboardInterrupt\u001b[0m\u001b[1;33m(\u001b[0m\u001b[1;34m\"Interrupted by user\"\u001b[0m\u001b[1;33m)\u001b[0m \u001b[1;32mfrom\u001b[0m \u001b[1;32mNone\u001b[0m\u001b[1;33m\u001b[0m\u001b[1;33m\u001b[0m\u001b[0m\n\u001b[0m\u001b[0;32m   1220\u001b[0m             \u001b[1;32mexcept\u001b[0m \u001b[0mException\u001b[0m\u001b[1;33m:\u001b[0m\u001b[1;33m\u001b[0m\u001b[1;33m\u001b[0m\u001b[0m\n\u001b[0;32m   1221\u001b[0m                 \u001b[0mself\u001b[0m\u001b[1;33m.\u001b[0m\u001b[0mlog\u001b[0m\u001b[1;33m.\u001b[0m\u001b[0mwarning\u001b[0m\u001b[1;33m(\u001b[0m\u001b[1;34m\"Invalid Message:\"\u001b[0m\u001b[1;33m,\u001b[0m \u001b[0mexc_info\u001b[0m\u001b[1;33m=\u001b[0m\u001b[1;32mTrue\u001b[0m\u001b[1;33m)\u001b[0m\u001b[1;33m\u001b[0m\u001b[1;33m\u001b[0m\u001b[0m\n",
      "\u001b[1;31mKeyboardInterrupt\u001b[0m: Interrupted by user"
     ]
    }
   ],
   "source": [
    "\n",
    "    \n",
    "    \n",
    "    "
   ]
  },
  {
   "cell_type": "code",
   "execution_count": null,
   "id": "7f73ca2a",
   "metadata": {},
   "outputs": [],
   "source": []
  },
  {
   "cell_type": "code",
   "execution_count": null,
   "id": "e25af3fd",
   "metadata": {},
   "outputs": [],
   "source": []
  }
 ],
 "metadata": {
  "kernelspec": {
   "display_name": "Python 3 (ipykernel)",
   "language": "python",
   "name": "python3"
  },
  "language_info": {
   "codemirror_mode": {
    "name": "ipython",
    "version": 3
   },
   "file_extension": ".py",
   "mimetype": "text/x-python",
   "name": "python",
   "nbconvert_exporter": "python",
   "pygments_lexer": "ipython3",
   "version": "3.9.13"
  }
 },
 "nbformat": 4,
 "nbformat_minor": 5
}
